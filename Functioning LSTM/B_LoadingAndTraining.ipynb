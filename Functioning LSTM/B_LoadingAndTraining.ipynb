{
 "cells": [
  {
   "cell_type": "markdown",
   "source": [
    "## Reloading the model"
   ],
   "metadata": {}
  },
  {
   "cell_type": "code",
   "execution_count": 5,
   "source": [
    "from keras import models\n",
    "model = models.load_model('/home/tanmay/Desktop/NLP Workflow/LSTM/Functioning LSTM/model.h5')\n",
    "model.summary()"
   ],
   "outputs": [
    {
     "output_type": "stream",
     "name": "stdout",
     "text": [
      "Model: \"sequential\"\n",
      "_________________________________________________________________\n",
      "Layer (type)                 Output Shape              Param #   \n",
      "=================================================================\n",
      "embedding (Embedding)        (None, 7, 7)              490       \n",
      "_________________________________________________________________\n",
      "lstm (LSTM)                  (None, 7, 14)             1232      \n",
      "_________________________________________________________________\n",
      "lstm_1 (LSTM)                (None, 14)                1624      \n",
      "_________________________________________________________________\n",
      "dense (Dense)                (None, 14)                210       \n",
      "_________________________________________________________________\n",
      "dense_1 (Dense)              (None, 70)                1050      \n",
      "=================================================================\n",
      "Total params: 4,606\n",
      "Trainable params: 4,606\n",
      "Non-trainable params: 0\n",
      "_________________________________________________________________\n"
     ]
    }
   ],
   "metadata": {}
  },
  {
   "cell_type": "code",
   "execution_count": null,
   "source": [],
   "outputs": [],
   "metadata": {}
  }
 ],
 "metadata": {
  "orig_nbformat": 4,
  "language_info": {
   "name": "python",
   "version": "3.8.5",
   "mimetype": "text/x-python",
   "codemirror_mode": {
    "name": "ipython",
    "version": 3
   },
   "pygments_lexer": "ipython3",
   "nbconvert_exporter": "python",
   "file_extension": ".py"
  },
  "kernelspec": {
   "name": "python3",
   "display_name": "Python 3.8.5 64-bit ('DeepLearning': conda)"
  },
  "interpreter": {
   "hash": "ce5412b8715117908d8129964960c3be480f008a4994ece1be9c3b7cf4dabcdb"
  }
 },
 "nbformat": 4,
 "nbformat_minor": 2
}