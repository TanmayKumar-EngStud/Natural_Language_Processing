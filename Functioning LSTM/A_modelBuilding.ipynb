{
 "cells": [
  {
   "cell_type": "markdown",
   "source": [
    "## Collecting the Data for training the model."
   ],
   "metadata": {}
  },
  {
   "cell_type": "code",
   "execution_count": 1,
   "source": [
    "import spacy\n",
    "\n",
    "import re\n",
    "nlp = spacy.load('en')\n",
    "file = open('/home/tanmay/Desktop/NLP Workflow/Working with a big data/collected_data.txt','r')\n",
    "minidata = file.read()\n",
    "club = [text.lower() for text in re.findall('[A-Za-z]+',minidata)]"
   ],
   "outputs": [],
   "metadata": {}
  },
  {
   "cell_type": "markdown",
   "source": [
    "## Initializing The tokenizer"
   ],
   "metadata": {}
  },
  {
   "cell_type": "code",
   "execution_count": 2,
   "source": [
    "from keras.preprocessing.text import Tokenizer\n",
    "\n",
    "tk = Tokenizer(num_words=len(club), lower= True)\n",
    "tk.fit_on_texts(club)\n",
    "sequence = tk.texts_to_sequences(club)"
   ],
   "outputs": [],
   "metadata": {}
  },
  {
   "cell_type": "markdown",
   "source": [
    "## Building up the matrix from raw data with the help of thread"
   ],
   "metadata": {}
  },
  {
   "cell_type": "code",
   "execution_count": 3,
   "source": [
    "import math\n",
    "training_length =math.trunc(math.sqrt(len(sequence)))\n",
    "import threading\n",
    "\n",
    "class thread(threading.Thread):\n",
    "    def __init__(self, threadID, name):\n",
    "        threading.Thread.__init__(self)\n",
    "        self.threadID = threadID\n",
    "        self.name = name\n",
    "    def run(self, sequence):\n",
    "        new_Matrix = []\n",
    "        for i in range(training_length,len(sequence)):\n",
    "            row = sequence[i-training_length:i]\n",
    "            new_Matrix.append(row)\n",
    "        return new_Matrix\n",
    "\n",
    "new_Matrix = thread(1, \"Thread-1\").run(sequence)\n",
    "\n",
    "import numpy as np\n",
    "Matrix = np.array(new_Matrix)\n",
    "print(Matrix.shape)\n",
    "vocabulary_size =len(club)"
   ],
   "outputs": [],
   "metadata": {}
  },
  {
   "cell_type": "markdown",
   "source": [
    "## Saparating the Matrix in X and y"
   ],
   "metadata": {}
  },
  {
   "cell_type": "code",
   "execution_count": 4,
   "source": [
    "from keras.utils import to_categorical\n",
    "X=Matrix[:,:-1]\n",
    "y =Matrix[:,-1]\n",
    "y = to_categorical(y, num_classes= vocabulary_size +1)\n",
    "seq_len = X.shape[1]"
   ],
   "outputs": [],
   "metadata": {}
  },
  {
   "cell_type": "markdown",
   "source": [
    "## The model Creating function"
   ],
   "metadata": {}
  },
  {
   "cell_type": "code",
   "execution_count": 5,
   "source": [
    "from keras.models import Sequential\n",
    "from keras.layers import Dense, LSTM, Embedding\n",
    "from tensorflow.python.keras.backend import categorical_crossentropy\n",
    "\n",
    "def create_model(vocab_Size, seq_Len):\n",
    "    model = Sequential()\n",
    "    model.add(Embedding(vocab_Size,seq_Len,input_length=seq_Len))\n",
    "    model.add(LSTM(seq_Len*2,return_sequences=True))\n",
    "    model.add(LSTM(seq_Len*2))\n",
    "    model.add(Dense(seq_Len*2,activation='relu'))\n",
    "    model.add(Dense(vocab_Size,activation = 'softmax'))\n",
    "\n",
    "    model.compile(loss ='categorical_crossentropy', optimizer='adam', metrics= ['accuracy'])\n",
    "    print(\"Summary :-\")\n",
    "    print(model.summary())\n",
    "    return model\n",
    "\n",
    "model = create_model(vocabulary_size+ 1, seq_len)\n"
   ],
   "outputs": [
    {
     "output_type": "stream",
     "name": "stdout",
     "text": [
      "Summary :-\n",
      "Model: \"sequential\"\n",
      "_________________________________________________________________\n",
      "Layer (type)                 Output Shape              Param #   \n",
      "=================================================================\n",
      "embedding (Embedding)        (None, 7, 7)              490       \n",
      "_________________________________________________________________\n",
      "lstm (LSTM)                  (None, 7, 14)             1232      \n",
      "_________________________________________________________________\n",
      "lstm_1 (LSTM)                (None, 14)                1624      \n",
      "_________________________________________________________________\n",
      "dense (Dense)                (None, 14)                210       \n",
      "_________________________________________________________________\n",
      "dense_1 (Dense)              (None, 70)                1050      \n",
      "=================================================================\n",
      "Total params: 4,606\n",
      "Trainable params: 4,606\n",
      "Non-trainable params: 0\n",
      "_________________________________________________________________\n",
      "None\n"
     ]
    }
   ],
   "metadata": {}
  },
  {
   "cell_type": "markdown",
   "source": [
    "## Training and saving the value of X, y and Model itself."
   ],
   "metadata": {}
  },
  {
   "cell_type": "code",
   "execution_count": 8,
   "source": [
    "from pickle import dump\n",
    "model.fit(X,y,batch_size = 128, verbose=2, epochs=3)\n",
    "\n",
    "model.save('model.h5')\n",
    "\n",
    "pickle_out = open('X.pickle','wb')\n",
    "dump(X,pickle_out)\n",
    "pickle_out.close()\n",
    "pickle_out = open('y.pickle','wb')\n",
    "dump(y,pickle_out)\n",
    "pickle_out.close()\n"
   ],
   "outputs": [
    {
     "output_type": "stream",
     "name": "stdout",
     "text": [
      "Epoch 1/3\n",
      "1/1 - 0s - loss: 4.2419 - accuracy: 0.0656\n",
      "Epoch 2/3\n",
      "1/1 - 0s - loss: 4.2408 - accuracy: 0.0656\n",
      "Epoch 3/3\n",
      "1/1 - 0s - loss: 4.2396 - accuracy: 0.0656\n"
     ]
    }
   ],
   "metadata": {}
  }
 ],
 "metadata": {
  "orig_nbformat": 4,
  "language_info": {
   "name": "python",
   "version": "3.8.5",
   "mimetype": "text/x-python",
   "codemirror_mode": {
    "name": "ipython",
    "version": 3
   },
   "pygments_lexer": "ipython3",
   "nbconvert_exporter": "python",
   "file_extension": ".py"
  },
  "kernelspec": {
   "name": "python3",
   "display_name": "Python 3.8.5 64-bit ('DeepLearning': conda)"
  },
  "interpreter": {
   "hash": "ce5412b8715117908d8129964960c3be480f008a4994ece1be9c3b7cf4dabcdb"
  }
 },
 "nbformat": 4,
 "nbformat_minor": 2
}